{
 "cells": [
  {
   "cell_type": "code",
   "execution_count": 1,
   "metadata": {},
   "outputs": [
    {
     "name": "stdout",
     "output_type": "stream",
     "text": [
      "{'learning_rate': [0.01, 0.001, 0.005, 0.0005], 'num_hidden': [64, 128, 256], 'num_proj_hidden': [62, 128, 256], 'activation': ['rrelu'], 'base_model': ['GCNConv'], 'num_layers': [2], 'drop_edge_rate_1': [0.4], 'drop_edge_rate_2': [0.1], 'drop_feature_rate_1': [0.1], 'drop_feature_rate_2': [0.4], 'tau': [0.5], 'num_epochs': [20, 40, 100], 'weight_decay': [1e-05], 'drop_scheme': ['degree'], 'rand_layers': [4]}\n"
     ]
    }
   ],
   "source": [
    "import yaml\n",
    "config = yaml.load(open(\"./MAGCL-main/param.yaml\"), Loader=yaml.SafeLoader)[\"ACM\"]\n",
    "print(config)"
   ]
  },
  {
   "cell_type": "code",
   "execution_count": null,
   "metadata": {},
   "outputs": [],
   "source": []
  }
 ],
 "metadata": {
  "kernelspec": {
   "display_name": "base",
   "language": "python",
   "name": "python3"
  },
  "language_info": {
   "codemirror_mode": {
    "name": "ipython",
    "version": 3
   },
   "file_extension": ".py",
   "mimetype": "text/x-python",
   "name": "python",
   "nbconvert_exporter": "python",
   "pygments_lexer": "ipython3",
   "version": "3.8.10"
  },
  "orig_nbformat": 4
 },
 "nbformat": 4,
 "nbformat_minor": 2
}
